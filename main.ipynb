{
 "cells": [
  {
   "cell_type": "code",
   "execution_count": null,
   "metadata": {},
   "outputs": [],
   "source": [
    "pip install nbformat"
   ]
  },
  {
   "cell_type": "code",
   "execution_count": 2,
   "metadata": {},
   "outputs": [],
   "source": [
    "import nbformat as nbf"
   ]
  },
  {
   "cell_type": "code",
   "execution_count": 5,
   "metadata": {},
   "outputs": [],
   "source": [
    "# Вказати шлях до файлу .py, який потрібно зчитати\n",
    "py_file_path = 'python_sourse.py'\n",
    "\n",
    "# Вказати шлях та ім'я файлу .ipynb, у який зберігатиметься результат\n",
    "output_path = 'new_jn.ipynb'\n",
    "\n",
    "# Зчитати вміст файлу .py\n",
    "with open(py_file_path, 'r', encoding='utf-8') as f:\n",
    "    py_file_content = f.read()\n",
    "\n",
    "# Розділити вміст на окремі конструкції (припустимо, що розділювачем є \"#%%\")\n",
    "code_blocks = py_file_content.split(\"\\n\\n\")\n",
    "\n",
    "# Створити новий Jupyter Notebook\n",
    "nb = nbf.v4.new_notebook()\n",
    "\n",
    "# Додати окрему кодову комірку для кожної конструкції\n",
    "for code_block in code_blocks:\n",
    "    if code_block.strip():  # Пропустити порожні блоки\n",
    "        nb['cells'].append(nbf.v4.new_code_cell(code_block))\n",
    "\n",
    "# Зберегти Jupyter Notebook з розділеними кодовими комірками\n",
    "nbf.write(nb, output_path)"
   ]
  },
  {
   "cell_type": "code",
   "execution_count": 6,
   "metadata": {},
   "outputs": [],
   "source": [
    "# Розпакавка JN\n",
    "# Вказати шлях до ноутбука, який потрібно експортувати\n",
    "notebook_path = 'new_jn.ipynb'\n",
    "\n",
    "# Вказати шлях та ім'я файлу .py, у який зберігатиметься код\n",
    "output_path = 'python_sourse2.py'\n",
    "\n",
    "# Завантажити ноутбук\n",
    "notebook = nbf.read(notebook_path, as_version=4)\n",
    "\n",
    "# Зібрати кодові комірки у список\n",
    "code_cells = []\n",
    "for cell in notebook['cells']:\n",
    "    if cell['cell_type'] == 'code':\n",
    "        code = cell['source']\n",
    "        code_cells.append(code)\n",
    "\n",
    "# Зберегти кодові комірки у файл .py\n",
    "with open(output_path, 'w', encoding='utf-8') as f:\n",
    "    f.write('\\n\\n'.join(code_cells))"
   ]
  },
  {
   "cell_type": "code",
   "execution_count": 11,
   "metadata": {},
   "outputs": [
    {
     "name": "stdout",
     "output_type": "stream",
     "text": [
      "True\n"
     ]
    }
   ],
   "source": [
    "file_path1 = 'python_sourse.py'\n",
    "file_path2 = 'python_sourse2.py'\n",
    "\n",
    "with open(file_path1, 'r', encoding='utf-8') as file:\n",
    "    text1 = file.read()\n",
    "\n",
    "with open(file_path2, 'r', encoding='utf-8') as file:\n",
    "    text2 = file.read()\n",
    "\n",
    "print(text1==text2)\n"
   ]
  }
 ],
 "metadata": {
  "kernelspec": {
   "display_name": "Python 3",
   "language": "python",
   "name": "python3"
  },
  "language_info": {
   "codemirror_mode": {
    "name": "ipython",
    "version": 3
   },
   "file_extension": ".py",
   "mimetype": "text/x-python",
   "name": "python",
   "nbconvert_exporter": "python",
   "pygments_lexer": "ipython3",
   "version": "3.10.11"
  },
  "orig_nbformat": 4
 },
 "nbformat": 4,
 "nbformat_minor": 2
}
